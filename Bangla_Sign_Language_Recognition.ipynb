{
  "nbformat": 4,
  "nbformat_minor": 0,
  "metadata": {
    "colab": {
      "provenance": [],
      "authorship_tag": "ABX9TyNQ43Om9/l/51uIFdPPLpmE",
      "include_colab_link": true
    },
    "kernelspec": {
      "name": "python3",
      "display_name": "Python 3"
    },
    "language_info": {
      "name": "python"
    }
  },
  "cells": [
    {
      "cell_type": "markdown",
      "metadata": {
        "id": "view-in-github",
        "colab_type": "text"
      },
      "source": [
        "<a href=\"https://colab.research.google.com/github/Prothoma2001/Bangla-Sign-Language-Recognition-Using-CNN/blob/main/Bangla_Sign_Language_Recognition.ipynb\" target=\"_parent\"><img src=\"https://colab.research.google.com/assets/colab-badge.svg\" alt=\"Open In Colab\"/></a>"
      ]
    },
    {
      "cell_type": "code",
      "source": [
        "from google.colab import drive\n",
        "drive.mount('/content/drive')"
      ],
      "metadata": {
        "colab": {
          "base_uri": "https://localhost:8080/"
        },
        "id": "ktu90t1d4--g",
        "outputId": "44038568-3898-4e05-f987-c1ca804fd549"
      },
      "execution_count": null,
      "outputs": [
        {
          "output_type": "stream",
          "name": "stdout",
          "text": [
            "Mounted at /content/drive\n"
          ]
        }
      ]
    },
    {
      "cell_type": "code",
      "source": [
        "#dataset 2"
      ],
      "metadata": {
        "id": "FnqdZot2v_nE"
      },
      "execution_count": null,
      "outputs": []
    },
    {
      "cell_type": "code",
      "execution_count": null,
      "metadata": {
        "id": "lwGdndlv-W1j",
        "colab": {
          "base_uri": "https://localhost:8080/",
          "height": 1000
        },
        "outputId": "04a7580a-302b-4127-d1e2-d31a2f3ba28c"
      },
      "outputs": [
        {
          "output_type": "stream",
          "name": "stdout",
          "text": [
            "Epoch 1/20\n",
            "739/739 [==============================] - 11s 11ms/step - loss: 3.3354 - acc: 0.1365 - val_loss: 1.7339 - val_acc: 0.4968\n",
            "Epoch 2/20\n",
            "739/739 [==============================] - 8s 10ms/step - loss: 1.2384 - acc: 0.6340 - val_loss: 0.8350 - val_acc: 0.7247\n",
            "Epoch 3/20\n",
            "739/739 [==============================] - 8s 11ms/step - loss: 0.7130 - acc: 0.7785 - val_loss: 0.5798 - val_acc: 0.8053\n",
            "Epoch 4/20\n",
            "739/739 [==============================] - 8s 11ms/step - loss: 0.4729 - acc: 0.8500 - val_loss: 0.4774 - val_acc: 0.8511\n",
            "Epoch 5/20\n",
            "739/739 [==============================] - 8s 10ms/step - loss: 0.3354 - acc: 0.8959 - val_loss: 0.3741 - val_acc: 0.8882\n",
            "Epoch 6/20\n",
            "739/739 [==============================] - 8s 10ms/step - loss: 0.2834 - acc: 0.9121 - val_loss: 0.3529 - val_acc: 0.9040\n",
            "Epoch 7/20\n",
            "739/739 [==============================] - 8s 10ms/step - loss: 0.2142 - acc: 0.9296 - val_loss: 0.3250 - val_acc: 0.9179\n",
            "Epoch 8/20\n",
            "739/739 [==============================] - 8s 10ms/step - loss: 0.1868 - acc: 0.9404 - val_loss: 0.3587 - val_acc: 0.9021\n",
            "Epoch 9/20\n",
            "739/739 [==============================] - 8s 11ms/step - loss: 0.1441 - acc: 0.9538 - val_loss: 0.3754 - val_acc: 0.9194\n",
            "Epoch 10/20\n",
            "739/739 [==============================] - 8s 11ms/step - loss: 0.1515 - acc: 0.9541 - val_loss: 0.3647 - val_acc: 0.9088\n",
            "Epoch 11/20\n",
            "739/739 [==============================] - 7s 10ms/step - loss: 0.1279 - acc: 0.9597 - val_loss: 0.3286 - val_acc: 0.9072\n",
            "Epoch 12/20\n",
            "739/739 [==============================] - 8s 11ms/step - loss: 0.1243 - acc: 0.9602 - val_loss: 0.2783 - val_acc: 0.9297\n",
            "Epoch 13/20\n",
            "739/739 [==============================] - 8s 10ms/step - loss: 0.1068 - acc: 0.9655 - val_loss: 0.3032 - val_acc: 0.9297\n",
            "Epoch 14/20\n",
            "739/739 [==============================] - 8s 11ms/step - loss: 0.1089 - acc: 0.9655 - val_loss: 0.2845 - val_acc: 0.9281\n",
            "Epoch 15/20\n",
            "739/739 [==============================] - 8s 10ms/step - loss: 0.0992 - acc: 0.9697 - val_loss: 0.2705 - val_acc: 0.9352\n",
            "Epoch 16/20\n",
            "739/739 [==============================] - 8s 10ms/step - loss: 0.0806 - acc: 0.9743 - val_loss: 0.2886 - val_acc: 0.9340\n",
            "Epoch 17/20\n",
            "739/739 [==============================] - 8s 10ms/step - loss: 0.1007 - acc: 0.9705 - val_loss: 0.3254 - val_acc: 0.9222\n",
            "Epoch 18/20\n",
            "739/739 [==============================] - 7s 10ms/step - loss: 0.0966 - acc: 0.9710 - val_loss: 0.2872 - val_acc: 0.9352\n",
            "Epoch 19/20\n",
            "739/739 [==============================] - 8s 10ms/step - loss: 0.0870 - acc: 0.9766 - val_loss: 0.2917 - val_acc: 0.9435\n",
            "Epoch 20/20\n",
            "739/739 [==============================] - 7s 10ms/step - loss: 0.0766 - acc: 0.9778 - val_loss: 0.3188 - val_acc: 0.9277\n",
            "-----204.04403567314148 seconds-----\n",
            "317/317 [==============================] - 1s 4ms/step - loss: 0.3188 - acc: 0.9277\n",
            "Test loss: 0.31875768303871155\n",
            "Test accuracy: 0.9277251362800598\n"
          ]
        },
        {
          "output_type": "display_data",
          "data": {
            "text/plain": [
              "<Figure size 640x480 with 1 Axes>"
            ],
            "image/png": "[encoded data removed]"
          },
          "metadata": {}
        }
      ],
      "source": [
        "import os\n",
        "import cv2\n",
        "import numpy as np\n",
        "from sklearn.model_selection import train_test_split\n",
        "from keras.applications import VGG16\n",
        "from keras.models import Sequential\n",
        "from keras.layers import Dense, Dropout, Flatten\n",
        "from tensorflow.keras.models import Sequential\n",
        "from tensorflow.keras.layers import Conv2D, MaxPooling2D, Flatten, Dense, Dropout\n",
        "import matplotlib.pyplot as plt\n",
        "import time\n",
        "\n",
        "# Define the path to your dataset directory\n",
        "dataset_path = \"/content/drive/MyDrive/BdSL_OPSA22_STATIC2\"\n",
        "\n",
        "# Define the dimensions of your images\n",
        "img_width, img_height = 64,64\n",
        "\n",
        "# Define the batch size and number of epochs for training\n",
        "batch_size = 8\n",
        "epochs = 20\n",
        "\n",
        "# Initialize lists to hold the data and labels\n",
        "data = []\n",
        "labels = []\n",
        "\n",
        "# Loop over the dataset directory\n",
        "for i, class_folder in enumerate(os.listdir(dataset_path)):\n",
        "    class_folder_path = os.path.join(dataset_path, class_folder)\n",
        "    # Loop over the images in each class folder\n",
        "    for image_name in os.listdir(class_folder_path):\n",
        "        image_path = os.path.join(class_folder_path, image_name)\n",
        "        # Load the image, resize to the desired dimensions, and convert to gray scale\n",
        "        image = cv2.imread(image_path)\n",
        "        image = cv2.resize(image, (img_width, img_height))\n",
        "        image = cv2.cvtColor(image, cv2.COLOR_BGR2RGB)  # fix\n",
        "        # Add the pre-processed image and its label to the lists\n",
        "        data.append(image)\n",
        "        labels.append(i)\n",
        "\n",
        "# Convert the data and labels lists to numpy arrays\n",
        "data = np.array(data)\n",
        "labels = np.array(labels)\n",
        "\n",
        "# Split the data and labels into train and test sets\n",
        "train_data, test_data, train_labels, test_labels = train_test_split(data, labels, test_size=0.3, random_state=42)\n",
        "\n",
        "# Normalize the pixel values to be between 0 and 1\n",
        "train_data = train_data.astype(\"float32\") / 255.0\n",
        "test_data = test_data.astype(\"float32\") / 255.0\n",
        "\n",
        "# Convert the labels to one-hot encoded vectors\n",
        "num_classes = len(np.unique(labels))\n",
        "train_labels = np.eye(num_classes)[train_labels]\n",
        "test_labels = np.eye(num_classes)[test_labels]\n",
        "\n",
        "#creating model\n",
        "model = Sequential()\n",
        "\n",
        "model.add(Conv2D(32, (3, 3), padding='same', activation='relu', input_shape=train_data.shape[1:]))\n",
        "model.add(Conv2D(32, (3, 3), padding='same', activation='relu'))\n",
        "model.add(MaxPooling2D(pool_size=(2, 2)))\n",
        "model.add(Dropout(0.25))\n",
        "\n",
        "model.add(Conv2D(64, (3, 3), padding='same', activation='relu'))\n",
        "model.add(Conv2D(64, (3, 3), padding='same', activation='relu'))\n",
        "model.add(MaxPooling2D(pool_size=(2, 2)))\n",
        "model.add(Dropout(0.25))\n",
        "\n",
        "model.add(Flatten())\n",
        "model.add(Dense(1024, activation='relu'))\n",
        "model.add(Dense(1024, activation='relu'))\n",
        "model.add(Dropout(0.5))\n",
        "model.add(Dense(num_classes, activation='softmax'))\n",
        "\n",
        "model.compile(loss=\"categorical_crossentropy\", optimizer=\"adam\", metrics=[\"acc\"])\n",
        "\n",
        "start_time = time.time()\n",
        "\n",
        "# Train the model\n",
        "history = model.fit(train_data, train_labels, batch_size=batch_size, epochs=epochs, validation_data=(test_data, test_labels))\n",
        "\n",
        "run_time1 = (time.time()- start_time)\n",
        "print(\"-----%s seconds-----\" % run_time1)\n",
        "\n",
        "model.save(\"OurMainModel_1.h5\")\n",
        "\n",
        "# Evaluate the model on the test set\n",
        "loss, accuracy = model.evaluate(test_data, test_labels, batch_size=batch_size)\n",
        "print(\"Test loss:\", loss)\n",
        "print(\"Test accuracy:\", accuracy)\n",
        "\n",
        "\n",
        "# Plot the training and validation accuracy\n",
        "plt.plot(history.history['acc'])\n",
        "plt.plot(history.history['val_acc'])\n",
        "plt.title('Model Accuracy')\n",
        "plt.xlabel('Epoch')\n",
        "plt.ylabel('Accuracy')\n",
        "plt.legend(['Train', 'Validation'], loc='upper left')\n",
        "plt.show()"
      ]
    },
    {
      "cell_type": "code",
      "source": [
        "# Plot the training and validation accuracy\n",
        "plt.plot(history.history['loss'])\n",
        "plt.plot(history.history['val_loss'])\n",
        "plt.title('Model Loss')\n",
        "plt.xlabel('Epoch')\n",
        "plt.ylabel('Loss')\n",
        "plt.legend(['Train', 'Validation'], loc='upper left')\n",
        "plt.show()"
      ],
      "metadata": {
        "colab": {
          "base_uri": "https://localhost:8080/",
          "height": 472
        },
        "id": "wNhykgEZlkyP",
        "outputId": "49fb6373-e8d0-4201-b6dd-6b55970a4a2d"
      },
      "execution_count": null,
      "outputs": [
        {
          "output_type": "display_data",
          "data": {
            "text/plain": [
              "<Figure size 640x480 with 1 Axes>"
            ],
            "image/png": "[encoded data removed]"
          },
          "metadata": {}
        }
      ]
    },
    {
      "cell_type": "code",
      "source": [
        "from sklearn.metrics import classification_report, confusion_matrix\n",
        "\n",
        "# Get the predicted class probabilities for the test set\n",
        "y_pred = model.predict(test_data)\n",
        "\n",
        "# Convert the predicted probabilities to class labels\n",
        "y_pred = np.argmax(y_pred, axis=1)\n",
        "\n",
        "# Convert the one-hot encoded test labels to class labels\n",
        "y_true = np.argmax(test_labels, axis=1)\n",
        "\n",
        "# Compute the confusion matrix\n",
        "conf_matrix = confusion_matrix(y_true, y_pred)\n",
        "\n",
        "# Compute the classification report\n",
        "class_report = classification_report(y_true, y_pred)\n",
        "\n",
        "# Print the results\n",
        "print(\"Confusion matrix:\\n\", conf_matrix)\n",
        "print(\"Classification report:\\n\", class_report)"
      ],
      "metadata": {
        "id": "YEvk1fuB-bT9",
        "colab": {
          "base_uri": "https://localhost:8080/"
        },
        "outputId": "5bcbb03e-995a-40f3-c044-e3c241aa9404"
      },
      "execution_count": null,
      "outputs": [
        {
          "output_type": "stream",
          "name": "stdout",
          "text": [
            "80/80 [==============================] - 0s 4ms/step\n",
            "Confusion matrix:\n",
            " [[50  0  0 ...  0  0  0]\n",
            " [ 0 30  0 ...  0  0  0]\n",
            " [ 0  0 37 ...  1  0  0]\n",
            " ...\n",
            " [ 0  0  0 ... 43  0  1]\n",
            " [ 0  0  1 ...  0 27  0]\n",
            " [ 0  0  0 ...  0  0 70]]\n",
            "Classification report:\n",
            "               precision    recall  f1-score   support\n",
            "\n",
            "           0       0.98      0.93      0.95        54\n",
            "           1       0.91      0.88      0.90        34\n",
            "           2       0.84      0.95      0.89        39\n",
            "           3       0.95      0.86      0.91        73\n",
            "           4       0.92      0.95      0.93        59\n",
            "           5       0.91      0.93      0.92        43\n",
            "           6       0.84      0.86      0.85        37\n",
            "           7       1.00      0.75      0.86        53\n",
            "           8       0.71      0.85      0.77        20\n",
            "           9       1.00      0.92      0.96        61\n",
            "          10       0.93      0.96      0.95        55\n",
            "          11       0.93      0.95      0.94        57\n",
            "          12       0.92      0.94      0.93        50\n",
            "          13       0.98      0.88      0.92        49\n",
            "          14       0.93      0.93      0.93        29\n",
            "          15       0.78      0.95      0.85        40\n",
            "          16       0.95      0.96      0.96        57\n",
            "          17       0.92      0.87      0.89        53\n",
            "          18       1.00      0.89      0.94        57\n",
            "          19       0.95      0.96      0.95        74\n",
            "          20       0.98      0.93      0.95        45\n",
            "          21       0.94      0.94      0.94        63\n",
            "          22       0.92      0.98      0.95        50\n",
            "          23       0.92      0.89      0.91        65\n",
            "          24       0.87      1.00      0.93        47\n",
            "          25       0.97      0.94      0.95        77\n",
            "          26       0.95      0.96      0.95        54\n",
            "          27       0.82      0.89      0.85        36\n",
            "          28       0.93      0.96      0.95        57\n",
            "          29       0.97      0.94      0.96        69\n",
            "          30       0.94      0.98      0.96        61\n",
            "          31       0.93      0.76      0.84        37\n",
            "          32       0.96      0.97      0.97        73\n",
            "          33       1.00      0.95      0.97        60\n",
            "          34       0.93      0.90      0.92        72\n",
            "          35       1.00      0.96      0.98        80\n",
            "          36       0.96      0.94      0.95        52\n",
            "          37       0.90      0.98      0.94        48\n",
            "          38       0.89      1.00      0.94        48\n",
            "          39       0.88      0.97      0.92        91\n",
            "          40       0.84      0.98      0.91        99\n",
            "          41       1.00      0.86      0.93        74\n",
            "          42       0.88      0.75      0.81        28\n",
            "          43       0.96      0.86      0.91        50\n",
            "          44       0.82      0.93      0.87        29\n",
            "          45       0.96      0.96      0.96        73\n",
            "\n",
            "    accuracy                           0.93      2532\n",
            "   macro avg       0.92      0.92      0.92      2532\n",
            "weighted avg       0.93      0.93      0.93      2532\n",
            "\n"
          ]
        }
      ]
    },
    {
      "cell_type": "code",
      "source": [
        "# Compute the confusion matrix\n",
        "cm = confusion_matrix(test_labels.argmax(axis=1), y_pred)\n",
        "\n",
        "# Compute the sensitivity and specificity\n",
        "sensitivity = cm[1, 1] / (cm[1, 0] + cm[1, 1])\n",
        "specificity = cm[0, 0] / (cm[0, 0] + cm[0, 1])\n",
        "\n",
        "print(\"Sensitivity:\", sensitivity)\n",
        "print(\"Specificity:\", specificity)"
      ],
      "metadata": {
        "id": "RDrjj3Gs-eMM",
        "colab": {
          "base_uri": "https://localhost:8080/"
        },
        "outputId": "360a4c10-e251-403a-df7c-3739d14cccd2"
      },
      "execution_count": null,
      "outputs": [
        {
          "output_type": "stream",
          "name": "stdout",
          "text": [
            "Sensitivity: 1.0\n",
            "Specificity: 1.0\n"
          ]
        }
      ]
    },
    {
      "cell_type": "code",
      "source": [
        "predictions = model.predict(test_data)\n",
        "test_labels = np.argmax(test_labels, axis=1)\n",
        "predictions = np.argmax(predictions, axis=1)\n",
        "from sklearn.metrics import classification_report\n",
        "report = classification_report(test_labels, predictions)\n",
        "\n",
        "from sklearn.metrics import confusion_matrix\n",
        "confusion = confusion_matrix(test_labels, predictions)\n",
        "\n",
        "for i in range(num_classes):\n",
        "    tp = confusion[i, i]\n",
        "    fp = np.sum(confusion[:, i]) - tp\n",
        "    fn = np.sum(confusion[i, :]) - tp\n",
        "    tn = np.sum(confusion) - tp - fp - fn\n",
        "    sensitivity = tp / (tp + fn)\n",
        "    specificity = tn / (tn + fp)\n",
        "    accuracy = (tp + tn) / (tp + tn + fp + fn)\n",
        "    print(\"Class {}: Sensitivity = {:.2f}, Specificity = {:.2f}, Accuracy = {:.2f}\".format(i, sensitivity, specificity, accuracy)) "
      ],
      "metadata": {
        "id": "Ln5MzJ8j-jpa",
        "colab": {
          "base_uri": "https://localhost:8080/"
        },
        "outputId": "283e17a4-bec8-4772-95c4-f28754a974e0"
      },
      "execution_count": null,
      "outputs": [
        {
          "output_type": "stream",
          "name": "stdout",
          "text": [
            "80/80 [==============================] - 0s 4ms/step\n",
            "Class 0: Sensitivity = 0.93, Specificity = 1.00, Accuracy = 1.00\n",
            "Class 1: Sensitivity = 0.88, Specificity = 1.00, Accuracy = 1.00\n",
            "Class 2: Sensitivity = 0.95, Specificity = 1.00, Accuracy = 1.00\n",
            "Class 3: Sensitivity = 0.86, Specificity = 1.00, Accuracy = 0.99\n",
            "Class 4: Sensitivity = 0.95, Specificity = 1.00, Accuracy = 1.00\n",
            "Class 5: Sensitivity = 0.93, Specificity = 1.00, Accuracy = 1.00\n",
            "Class 6: Sensitivity = 0.86, Specificity = 1.00, Accuracy = 1.00\n",
            "Class 7: Sensitivity = 0.75, Specificity = 1.00, Accuracy = 0.99\n",
            "Class 8: Sensitivity = 0.85, Specificity = 1.00, Accuracy = 1.00\n",
            "Class 9: Sensitivity = 0.92, Specificity = 1.00, Accuracy = 1.00\n",
            "Class 10: Sensitivity = 0.96, Specificity = 1.00, Accuracy = 1.00\n",
            "Class 11: Sensitivity = 0.95, Specificity = 1.00, Accuracy = 1.00\n",
            "Class 12: Sensitivity = 0.94, Specificity = 1.00, Accuracy = 1.00\n",
            "Class 13: Sensitivity = 0.88, Specificity = 1.00, Accuracy = 1.00\n",
            "Class 14: Sensitivity = 0.93, Specificity = 1.00, Accuracy = 1.00\n",
            "Class 15: Sensitivity = 0.95, Specificity = 1.00, Accuracy = 0.99\n",
            "Class 16: Sensitivity = 0.96, Specificity = 1.00, Accuracy = 1.00\n",
            "Class 17: Sensitivity = 0.87, Specificity = 1.00, Accuracy = 1.00\n",
            "Class 18: Sensitivity = 0.89, Specificity = 1.00, Accuracy = 1.00\n",
            "Class 19: Sensitivity = 0.96, Specificity = 1.00, Accuracy = 1.00\n",
            "Class 20: Sensitivity = 0.93, Specificity = 1.00, Accuracy = 1.00\n",
            "Class 21: Sensitivity = 0.94, Specificity = 1.00, Accuracy = 1.00\n",
            "Class 22: Sensitivity = 0.98, Specificity = 1.00, Accuracy = 1.00\n",
            "Class 23: Sensitivity = 0.89, Specificity = 1.00, Accuracy = 1.00\n",
            "Class 24: Sensitivity = 1.00, Specificity = 1.00, Accuracy = 1.00\n",
            "Class 25: Sensitivity = 0.94, Specificity = 1.00, Accuracy = 1.00\n",
            "Class 26: Sensitivity = 0.96, Specificity = 1.00, Accuracy = 1.00\n",
            "Class 27: Sensitivity = 0.89, Specificity = 1.00, Accuracy = 1.00\n",
            "Class 28: Sensitivity = 0.96, Specificity = 1.00, Accuracy = 1.00\n",
            "Class 29: Sensitivity = 0.94, Specificity = 1.00, Accuracy = 1.00\n",
            "Class 30: Sensitivity = 0.98, Specificity = 1.00, Accuracy = 1.00\n",
            "Class 31: Sensitivity = 0.76, Specificity = 1.00, Accuracy = 1.00\n",
            "Class 32: Sensitivity = 0.97, Specificity = 1.00, Accuracy = 1.00\n",
            "Class 33: Sensitivity = 0.95, Specificity = 1.00, Accuracy = 1.00\n",
            "Class 34: Sensitivity = 0.90, Specificity = 1.00, Accuracy = 1.00\n",
            "Class 35: Sensitivity = 0.96, Specificity = 1.00, Accuracy = 1.00\n",
            "Class 36: Sensitivity = 0.94, Specificity = 1.00, Accuracy = 1.00\n",
            "Class 37: Sensitivity = 0.98, Specificity = 1.00, Accuracy = 1.00\n",
            "Class 38: Sensitivity = 1.00, Specificity = 1.00, Accuracy = 1.00\n",
            "Class 39: Sensitivity = 0.97, Specificity = 1.00, Accuracy = 0.99\n",
            "Class 40: Sensitivity = 0.98, Specificity = 0.99, Accuracy = 0.99\n",
            "Class 41: Sensitivity = 0.86, Specificity = 1.00, Accuracy = 1.00\n",
            "Class 42: Sensitivity = 0.75, Specificity = 1.00, Accuracy = 1.00\n",
            "Class 43: Sensitivity = 0.86, Specificity = 1.00, Accuracy = 1.00\n",
            "Class 44: Sensitivity = 0.93, Specificity = 1.00, Accuracy = 1.00\n",
            "Class 45: Sensitivity = 0.96, Specificity = 1.00, Accuracy = 1.00\n"
          ]
        }
      ]
    },
    {
      "cell_type": "code",
      "source": [],
      "metadata": {
        "id": "x3HSW3rA8ODY"
      },
      "execution_count": null,
      "outputs": []
    },
    {
      "cell_type": "code",
      "source": [
        "#dataset 1"
      ],
      "metadata": {
        "id": "iet3RWkPGVW-"
      },
      "execution_count": null,
      "outputs": []
    },
    {
      "cell_type": "code",
      "source": [
        "from google.colab import drive\n",
        "drive.mount('/content/drive')"
      ],
      "metadata": {
        "colab": {
          "base_uri": "https://localhost:8080/"
        },
        "outputId": "db20f53d-858b-4691-b50e-503d5fa9d282",
        "id": "qVwQbOseGV6E"
      },
      "execution_count": null,
      "outputs": [
        {
          "output_type": "stream",
          "name": "stdout",
          "text": [
            "Mounted at /content/drive\n"
          ]
        }
      ]
    },
    {
      "cell_type": "code",
      "source": [
        "import os\n",
        "import cv2\n",
        "import numpy as np\n",
        "from sklearn.model_selection import train_test_split\n",
        "from keras.applications import VGG16\n",
        "from keras.models import Sequential\n",
        "from keras.layers import Dense, Dropout, Flatten\n",
        "from tensorflow.keras.models import Sequential\n",
        "from tensorflow.keras.layers import Conv2D, MaxPooling2D, Flatten, Dense, Dropout\n",
        "import matplotlib.pyplot as plt\n",
        "import time\n",
        "\n",
        "# Define the path to your dataset directory\n",
        "dataset_path = \"/content/drive/MyDrive/BdSL_OPSA22_STATIC1\"\n",
        "\n",
        "# Define the dimensions of your images\n",
        "img_width, img_height = 64,64\n",
        "\n",
        "# Define the batch size and number of epochs for training\n",
        "batch_size = 8\n",
        "epochs = 20\n",
        "\n",
        "# Initialize lists to hold the data and labels\n",
        "data = []\n",
        "labels = []\n",
        "\n",
        "# Loop over the dataset directory\n",
        "for i, class_folder in enumerate(os.listdir(dataset_path)):\n",
        "    class_folder_path = os.path.join(dataset_path, class_folder)\n",
        "    # Loop over the images in each class folder\n",
        "    for image_name in os.listdir(class_folder_path):\n",
        "        image_path = os.path.join(class_folder_path, image_name)\n",
        "        # Load the image, resize to the desired dimensions, and convert to gray scale\n",
        "        image = cv2.imread(image_path)\n",
        "        image = cv2.resize(image, (img_width, img_height))\n",
        "        image = cv2.cvtColor(image, cv2.COLOR_BGR2RGB)  # fix\n",
        "        # Add the pre-processed image and its label to the lists\n",
        "        data.append(image)\n",
        "        labels.append(i)\n",
        "\n",
        "# Convert the data and labels lists to numpy arrays\n",
        "data = np.array(data)\n",
        "labels = np.array(labels)\n",
        "\n",
        "# Split the data and labels into train and test sets\n",
        "train_data, test_data, train_labels, test_labels = train_test_split(data, labels, test_size=0.3, random_state=42)\n",
        "\n",
        "# Normalize the pixel values to be between 0 and 1\n",
        "train_data = train_data.astype(\"float32\") / 255.0\n",
        "test_data = test_data.astype(\"float32\") / 255.0\n",
        "\n",
        "# Convert the labels to one-hot encoded vectors\n",
        "num_classes = len(np.unique(labels))\n",
        "train_labels = np.eye(num_classes)[train_labels]\n",
        "test_labels = np.eye(num_classes)[test_labels]\n",
        "\n",
        "#creating model\n",
        "model = Sequential()\n",
        "\n",
        "model.add(Conv2D(32, (3, 3), padding='same', activation='relu', input_shape=train_data.shape[1:]))\n",
        "model.add(Conv2D(32, (3, 3), padding='same', activation='relu'))\n",
        "model.add(MaxPooling2D(pool_size=(2, 2)))\n",
        "model.add(Dropout(0.25))\n",
        "\n",
        "model.add(Conv2D(64, (3, 3), padding='same', activation='relu'))\n",
        "model.add(Conv2D(64, (3, 3), padding='same', activation='relu'))\n",
        "model.add(MaxPooling2D(pool_size=(2, 2)))\n",
        "model.add(Dropout(0.25))\n",
        "\n",
        "model.add(Flatten())\n",
        "model.add(Dense(1024, activation='relu'))\n",
        "model.add(Dense(1024, activation='relu'))\n",
        "model.add(Dropout(0.5))\n",
        "model.add(Dense(num_classes, activation='softmax'))\n",
        "\n",
        "model.compile(loss=\"categorical_crossentropy\", optimizer=\"adam\", metrics=[\"acc\"])\n",
        "\n",
        "start_time = time.time()\n",
        "\n",
        "# Train the model\n",
        "history = model.fit(train_data, train_labels, batch_size=batch_size, epochs=epochs, validation_data=(test_data, test_labels))\n",
        "\n",
        "run_time1 = (time.time()- start_time)\n",
        "print(\"-----%s seconds-----\" % run_time1)\n",
        "\n",
        "model.save(\"OurMainModel_2.h5\")\n",
        "\n",
        "# Evaluate the model on the test set\n",
        "loss, accuracy = model.evaluate(test_data, test_labels, batch_size=batch_size)\n",
        "print(\"Test loss:\", loss)\n",
        "print(\"Test accuracy:\", accuracy)\n",
        "\n",
        "\n",
        "# Plot the training and validation accuracy\n",
        "plt.plot(history.history['acc'])\n",
        "plt.plot(history.history['val_acc'])\n",
        "plt.title('Model Accuracy')\n",
        "plt.xlabel('Epoch')\n",
        "plt.ylabel('Accuracy')\n",
        "plt.legend(['Train', 'Validation'], loc='upper left')\n",
        "plt.show()"
      ],
      "metadata": {
        "colab": {
          "base_uri": "https://localhost:8080/",
          "height": 1000
        },
        "id": "2JEz_Hk735jj",
        "outputId": "fed4fdae-a97d-415c-b03e-9c7e17f74bba"
      },
      "execution_count": null,
      "outputs": [
        {
          "output_type": "stream",
          "name": "stdout",
          "text": [
            "Epoch 1/20\n",
            "2135/2135 [==============================] - 26s 10ms/step - loss: 1.5080 - acc: 0.5902 - val_loss: 0.2516 - val_acc: 0.9154\n",
            "Epoch 2/20\n",
            "2135/2135 [==============================] - 22s 10ms/step - loss: 0.2688 - acc: 0.9138 - val_loss: 0.1558 - val_acc: 0.9422\n",
            "Epoch 3/20\n",
            "2135/2135 [==============================] - 21s 10ms/step - loss: 0.1789 - acc: 0.9415 - val_loss: 0.1407 - val_acc: 0.9579\n",
            "Epoch 4/20\n",
            "2135/2135 [==============================] - 21s 10ms/step - loss: 0.1323 - acc: 0.9545 - val_loss: 0.1182 - val_acc: 0.9621\n",
            "Epoch 5/20\n",
            "2135/2135 [==============================] - 24s 11ms/step - loss: 0.1158 - acc: 0.9620 - val_loss: 0.1298 - val_acc: 0.9647\n",
            "Epoch 6/20\n",
            "2135/2135 [==============================] - 21s 10ms/step - loss: 0.1021 - acc: 0.9659 - val_loss: 0.0827 - val_acc: 0.9753\n",
            "Epoch 7/20\n",
            "2135/2135 [==============================] - 24s 11ms/step - loss: 0.0826 - acc: 0.9729 - val_loss: 0.0925 - val_acc: 0.9705\n",
            "Epoch 8/20\n",
            "2135/2135 [==============================] - 21s 10ms/step - loss: 0.0819 - acc: 0.9736 - val_loss: 0.0804 - val_acc: 0.9777\n",
            "Epoch 9/20\n",
            "2135/2135 [==============================] - 22s 10ms/step - loss: 0.0745 - acc: 0.9771 - val_loss: 0.0633 - val_acc: 0.9813\n",
            "Epoch 10/20\n",
            "2135/2135 [==============================] - 24s 11ms/step - loss: 0.0632 - acc: 0.9793 - val_loss: 0.0659 - val_acc: 0.9829\n",
            "Epoch 11/20\n",
            "2135/2135 [==============================] - 21s 10ms/step - loss: 0.0652 - acc: 0.9779 - val_loss: 0.0748 - val_acc: 0.9831\n",
            "Epoch 12/20\n",
            "2135/2135 [==============================] - 22s 10ms/step - loss: 0.0575 - acc: 0.9813 - val_loss: 0.0759 - val_acc: 0.9795\n",
            "Epoch 13/20\n",
            "2135/2135 [==============================] - 24s 11ms/step - loss: 0.0559 - acc: 0.9827 - val_loss: 0.0963 - val_acc: 0.9820\n",
            "Epoch 14/20\n",
            "2135/2135 [==============================] - 21s 10ms/step - loss: 0.0507 - acc: 0.9840 - val_loss: 0.0564 - val_acc: 0.9855\n",
            "Epoch 15/20\n",
            "2135/2135 [==============================] - 22s 10ms/step - loss: 0.0707 - acc: 0.9789 - val_loss: 0.0618 - val_acc: 0.9839\n",
            "Epoch 16/20\n",
            "2135/2135 [==============================] - 22s 10ms/step - loss: 0.0473 - acc: 0.9861 - val_loss: 0.0686 - val_acc: 0.9835\n",
            "Epoch 17/20\n",
            "2135/2135 [==============================] - 22s 10ms/step - loss: 0.0470 - acc: 0.9869 - val_loss: 0.0580 - val_acc: 0.9835\n",
            "Epoch 18/20\n",
            "2135/2135 [==============================] - 24s 11ms/step - loss: 0.0468 - acc: 0.9849 - val_loss: 0.0921 - val_acc: 0.9843\n",
            "Epoch 19/20\n",
            "2135/2135 [==============================] - 22s 10ms/step - loss: 0.0503 - acc: 0.9854 - val_loss: 0.0545 - val_acc: 0.9870\n",
            "Epoch 20/20\n",
            "2135/2135 [==============================] - 21s 10ms/step - loss: 0.0564 - acc: 0.9824 - val_loss: 0.0729 - val_acc: 0.9837\n",
            "-----448.506281375885 seconds-----\n",
            "915/915 [==============================] - 4s 4ms/step - loss: 0.0729 - acc: 0.9837\n",
            "Test loss: 0.0729077085852623\n",
            "Test accuracy: 0.9837387204170227\n"
          ]
        },
        {
          "output_type": "display_data",
          "data": {
            "text/plain": [
              "<Figure size 640x480 with 1 Axes>"
            ],
            "image/png": "[encoded data removed]"
          },
          "metadata": {}
        }
      ]
    },
    {
      "cell_type": "code",
      "source": [
        "# Plot the training and validation accuracy\n",
        "plt.plot(history.history['loss'])\n",
        "plt.plot(history.history['val_loss'])\n",
        "plt.title('Model Loss')\n",
        "plt.xlabel('Epoch')\n",
        "plt.ylabel('Loss')\n",
        "plt.legend(['Train', 'Validation'], loc='upper left')\n",
        "plt.show()"
      ],
      "metadata": {
        "colab": {
          "base_uri": "https://localhost:8080/",
          "height": 472
        },
        "id": "byibNJVkmFVn",
        "outputId": "e9319451-670c-4e4f-dcc7-5b1ccc25397b"
      },
      "execution_count": null,
      "outputs": [
        {
          "output_type": "display_data",
          "data": {
            "text/plain": [
              "<Figure size 640x480 with 1 Axes>"
            ],
            "image/png": "[encoded data removed]"
          },
          "metadata": {}
        }
      ]
    },
    {
      "cell_type": "code",
      "source": [
        "from sklearn.metrics import classification_report, confusion_matrix\n",
        "\n",
        "# Get the predicted class probabilities for the test set\n",
        "y_pred = model.predict(test_data)\n",
        "\n",
        "# Convert the predicted probabilities to class labels\n",
        "y_pred = np.argmax(y_pred, axis=1)\n",
        "\n",
        "# Convert the one-hot encoded test labels to class labels\n",
        "y_true = np.argmax(test_labels, axis=1)\n",
        "\n",
        "# Compute the confusion matrix\n",
        "conf_matrix = confusion_matrix(y_true, y_pred)\n",
        "\n",
        "# Compute the classification report\n",
        "class_report = classification_report(y_true, y_pred)\n",
        "\n",
        "# Print the results\n",
        "print(\"Confusion matrix:\\n\", conf_matrix)\n",
        "print(\"Classification report:\\n\", class_report)"
      ],
      "metadata": {
        "colab": {
          "base_uri": "https://localhost:8080/"
        },
        "outputId": "df5709f9-99a4-452b-8250-51465c877eac",
        "id": "eo20hZ8vGV6H"
      },
      "execution_count": null,
      "outputs": [
        {
          "output_type": "stream",
          "name": "stdout",
          "text": [
            "229/229 [==============================] - 1s 4ms/step\n",
            "Confusion matrix:\n",
            " [[138   0   0 ...   0   0   0]\n",
            " [  1  77   0 ...   0   0   0]\n",
            " [  0   0  98 ...   0   0   0]\n",
            " ...\n",
            " [  0   0   0 ... 128   0   0]\n",
            " [  0   0   0 ...   0 164   0]\n",
            " [  0   0   0 ...   1   2 123]]\n",
            "Classification report:\n",
            "               precision    recall  f1-score   support\n",
            "\n",
            "           0       0.99      0.97      0.98       142\n",
            "           1       0.93      0.97      0.95        79\n",
            "           2       1.00      0.96      0.98       102\n",
            "           3       0.97      0.93      0.95        73\n",
            "           4       0.97      0.88      0.92       109\n",
            "           5       0.82      1.00      0.90        41\n",
            "           6       0.99      0.97      0.98       156\n",
            "           7       0.98      0.94      0.96        63\n",
            "           8       0.98      0.99      0.99       121\n",
            "           9       0.99      0.99      0.99       123\n",
            "          10       0.99      0.85      0.91        87\n",
            "          11       0.91      0.99      0.95       169\n",
            "          12       0.91      0.96      0.94       128\n",
            "          13       0.99      0.98      0.98       148\n",
            "          14       0.85      0.96      0.90        70\n",
            "          15       1.00      1.00      1.00       155\n",
            "          16       1.00      1.00      1.00       163\n",
            "          17       0.95      0.90      0.92        77\n",
            "          18       0.98      1.00      0.99       214\n",
            "          19       0.99      0.98      0.99       174\n",
            "          20       1.00      0.99      1.00       219\n",
            "          21       1.00      0.99      1.00       218\n",
            "          22       1.00      1.00      1.00       222\n",
            "          23       1.00      1.00      1.00       195\n",
            "          24       1.00      1.00      1.00       247\n",
            "          25       0.99      1.00      1.00       240\n",
            "          26       1.00      1.00      1.00       215\n",
            "          27       1.00      1.00      1.00       377\n",
            "          28       1.00      0.99      1.00       389\n",
            "          29       0.94      0.91      0.92        80\n",
            "          30       0.92      0.99      0.95        93\n",
            "          31       1.00      1.00      1.00       289\n",
            "          32       1.00      1.00      1.00       313\n",
            "          33       1.00      1.00      1.00        69\n",
            "          34       1.00      1.00      1.00       156\n",
            "          35       1.00      0.97      0.99       141\n",
            "          36       1.00      0.99      1.00       137\n",
            "          37       1.00      0.99      1.00       113\n",
            "          38       0.98      1.00      0.99       144\n",
            "          39       0.99      1.00      0.99       167\n",
            "          40       0.96      0.94      0.95       176\n",
            "          41       0.99      0.99      0.99       162\n",
            "          42       0.99      0.99      0.99       140\n",
            "          43       0.96      0.99      0.98       129\n",
            "          44       0.99      0.99      0.99       165\n",
            "          45       1.00      0.96      0.98       128\n",
            "\n",
            "    accuracy                           0.98      7318\n",
            "   macro avg       0.98      0.98      0.98      7318\n",
            "weighted avg       0.98      0.98      0.98      7318\n",
            "\n"
          ]
        }
      ]
    },
    {
      "cell_type": "code",
      "source": [
        "# Compute the confusion matrix\n",
        "cm = confusion_matrix(test_labels.argmax(axis=1), y_pred)\n",
        "\n",
        "# Compute the sensitivity and specificity\n",
        "sensitivity = cm[1, 1] / (cm[1, 0] + cm[1, 1])\n",
        "specificity = cm[0, 0] / (cm[0, 0] + cm[0, 1])\n",
        "\n",
        "print(\"Sensitivity:\", sensitivity)\n",
        "print(\"Specificity:\", specificity)"
      ],
      "metadata": {
        "colab": {
          "base_uri": "https://localhost:8080/"
        },
        "outputId": "081b2e3e-0125-4919-b673-bf8f769c210f",
        "id": "t3NnT0X7GV6I"
      },
      "execution_count": null,
      "outputs": [
        {
          "output_type": "stream",
          "name": "stdout",
          "text": [
            "Sensitivity: 0.9871794871794872\n",
            "Specificity: 1.0\n"
          ]
        }
      ]
    },
    {
      "cell_type": "code",
      "source": [
        "predictions = model.predict(test_data)\n",
        "test_labels = np.argmax(test_labels, axis=1)\n",
        "predictions = np.argmax(predictions, axis=1)\n",
        "from sklearn.metrics import classification_report\n",
        "report = classification_report(test_labels, predictions)\n",
        "\n",
        "from sklearn.metrics import confusion_matrix\n",
        "confusion = confusion_matrix(test_labels, predictions)\n",
        "\n",
        "for i in range(num_classes):\n",
        "    tp = confusion[i, i]\n",
        "    fp = np.sum(confusion[:, i]) - tp\n",
        "    fn = np.sum(confusion[i, :]) - tp\n",
        "    tn = np.sum(confusion) - tp - fp - fn\n",
        "    sensitivity = tp / (tp + fn)\n",
        "    specificity = tn / (tn + fp)\n",
        "    accuracy = (tp + tn) / (tp + tn + fp + fn)\n",
        "    print(\"Class {}: Sensitivity = {:.2f}, Specificity = {:.2f}, Accuracy = {:.2f}\".format(i, sensitivity, specificity, accuracy)) "
      ],
      "metadata": {
        "colab": {
          "base_uri": "https://localhost:8080/"
        },
        "outputId": "ff78f92e-3031-4e13-bbf2-165f27db856e",
        "id": "Pbut-ho9GV6J"
      },
      "execution_count": null,
      "outputs": [
        {
          "output_type": "stream",
          "name": "stdout",
          "text": [
            "229/229 [==============================] - 1s 3ms/step\n",
            "Class 0: Sensitivity = 0.97, Specificity = 1.00, Accuracy = 1.00\n",
            "Class 1: Sensitivity = 0.97, Specificity = 1.00, Accuracy = 1.00\n",
            "Class 2: Sensitivity = 0.96, Specificity = 1.00, Accuracy = 1.00\n",
            "Class 3: Sensitivity = 0.93, Specificity = 1.00, Accuracy = 1.00\n",
            "Class 4: Sensitivity = 0.88, Specificity = 1.00, Accuracy = 1.00\n",
            "Class 5: Sensitivity = 1.00, Specificity = 1.00, Accuracy = 1.00\n",
            "Class 6: Sensitivity = 0.97, Specificity = 1.00, Accuracy = 1.00\n",
            "Class 7: Sensitivity = 0.94, Specificity = 1.00, Accuracy = 1.00\n",
            "Class 8: Sensitivity = 0.99, Specificity = 1.00, Accuracy = 1.00\n",
            "Class 9: Sensitivity = 0.99, Specificity = 1.00, Accuracy = 1.00\n",
            "Class 10: Sensitivity = 0.85, Specificity = 1.00, Accuracy = 1.00\n",
            "Class 11: Sensitivity = 0.99, Specificity = 1.00, Accuracy = 1.00\n",
            "Class 12: Sensitivity = 0.96, Specificity = 1.00, Accuracy = 1.00\n",
            "Class 13: Sensitivity = 0.98, Specificity = 1.00, Accuracy = 1.00\n",
            "Class 14: Sensitivity = 0.96, Specificity = 1.00, Accuracy = 1.00\n",
            "Class 15: Sensitivity = 1.00, Specificity = 1.00, Accuracy = 1.00\n",
            "Class 16: Sensitivity = 1.00, Specificity = 1.00, Accuracy = 1.00\n",
            "Class 17: Sensitivity = 0.90, Specificity = 1.00, Accuracy = 1.00\n",
            "Class 18: Sensitivity = 1.00, Specificity = 1.00, Accuracy = 1.00\n",
            "Class 19: Sensitivity = 0.98, Specificity = 1.00, Accuracy = 1.00\n",
            "Class 20: Sensitivity = 0.99, Specificity = 1.00, Accuracy = 1.00\n",
            "Class 21: Sensitivity = 0.99, Specificity = 1.00, Accuracy = 1.00\n",
            "Class 22: Sensitivity = 1.00, Specificity = 1.00, Accuracy = 1.00\n",
            "Class 23: Sensitivity = 1.00, Specificity = 1.00, Accuracy = 1.00\n",
            "Class 24: Sensitivity = 1.00, Specificity = 1.00, Accuracy = 1.00\n",
            "Class 25: Sensitivity = 1.00, Specificity = 1.00, Accuracy = 1.00\n",
            "Class 26: Sensitivity = 1.00, Specificity = 1.00, Accuracy = 1.00\n",
            "Class 27: Sensitivity = 1.00, Specificity = 1.00, Accuracy = 1.00\n",
            "Class 28: Sensitivity = 0.99, Specificity = 1.00, Accuracy = 1.00\n",
            "Class 29: Sensitivity = 0.91, Specificity = 1.00, Accuracy = 1.00\n",
            "Class 30: Sensitivity = 0.99, Specificity = 1.00, Accuracy = 1.00\n",
            "Class 31: Sensitivity = 1.00, Specificity = 1.00, Accuracy = 1.00\n",
            "Class 32: Sensitivity = 1.00, Specificity = 1.00, Accuracy = 1.00\n",
            "Class 33: Sensitivity = 1.00, Specificity = 1.00, Accuracy = 1.00\n",
            "Class 34: Sensitivity = 1.00, Specificity = 1.00, Accuracy = 1.00\n",
            "Class 35: Sensitivity = 0.97, Specificity = 1.00, Accuracy = 1.00\n",
            "Class 36: Sensitivity = 0.99, Specificity = 1.00, Accuracy = 1.00\n",
            "Class 37: Sensitivity = 0.99, Specificity = 1.00, Accuracy = 1.00\n",
            "Class 38: Sensitivity = 1.00, Specificity = 1.00, Accuracy = 1.00\n",
            "Class 39: Sensitivity = 1.00, Specificity = 1.00, Accuracy = 1.00\n",
            "Class 40: Sensitivity = 0.94, Specificity = 1.00, Accuracy = 1.00\n",
            "Class 41: Sensitivity = 0.99, Specificity = 1.00, Accuracy = 1.00\n",
            "Class 42: Sensitivity = 0.99, Specificity = 1.00, Accuracy = 1.00\n",
            "Class 43: Sensitivity = 0.99, Specificity = 1.00, Accuracy = 1.00\n",
            "Class 44: Sensitivity = 0.99, Specificity = 1.00, Accuracy = 1.00\n",
            "Class 45: Sensitivity = 0.96, Specificity = 1.00, Accuracy = 1.00\n"
          ]
        }
      ]
    },
    {
      "cell_type": "code",
      "source": [
        "import os\n",
        "import cv2\n",
        "import numpy as np\n",
        "from sklearn.model_selection import train_test_split\n",
        "from keras.applications import VGG16\n",
        "from keras.models import Sequential\n",
        "from keras.layers import Dense, Dropout, Flatten\n",
        "from tensorflow.keras.models import Sequential\n",
        "from tensorflow.keras.layers import Conv2D, MaxPooling2D, Flatten, Dense, Dropout\n",
        "\n",
        "\n",
        "#creating model\n",
        "model = Sequential()\n",
        "\n",
        "model.add(Conv2D(32, (3, 3), padding='same', activation='relu', input_shape=(64,64,3)))\n",
        "model.add(Conv2D(32, (3, 3), padding='same', activation='relu'))\n",
        "model.add(MaxPooling2D(pool_size=(2, 2)))\n",
        "model.add(Dropout(0.25))\n",
        "\n",
        "model.add(Conv2D(64, (3, 3), padding='same', activation='relu'))\n",
        "model.add(Conv2D(64, (3, 3), padding='same', activation='relu'))\n",
        "model.add(MaxPooling2D(pool_size=(2, 2)))\n",
        "model.add(Dropout(0.25))\n",
        "\n",
        "model.add(Flatten())\n",
        "model.add(Dense(1024, activation='relu'))\n",
        "model.add(Dense(1024, activation='relu'))\n",
        "model.add(Dropout(0.5))\n",
        "model.add(Dense(46, activation='softmax'))\n",
        "\n",
        "model.summary()"
      ],
      "metadata": {
        "colab": {
          "base_uri": "https://localhost:8080/"
        },
        "id": "1U3E6EuCsQ_R",
        "outputId": "1240a3a7-f4f9-4c90-b421-f5af11dca264"
      },
      "execution_count": null,
      "outputs": [
        {
          "output_type": "stream",
          "name": "stdout",
          "text": [
            "Model: \"sequential_2\"\n",
            "_________________________________________________________________\n",
            " Layer (type)                Output Shape              Param #   \n",
            "=================================================================\n",
            " conv2d_4 (Conv2D)           (None, 64, 64, 32)        896       \n",
            "                                                                 \n",
            " conv2d_5 (Conv2D)           (None, 64, 64, 32)        9248      \n",
            "                                                                 \n",
            " max_pooling2d_2 (MaxPooling  (None, 32, 32, 32)       0         \n",
            " 2D)                                                             \n",
            "                                                                 \n",
            " dropout_3 (Dropout)         (None, 32, 32, 32)        0         \n",
            "                                                                 \n",
            " conv2d_6 (Conv2D)           (None, 32, 32, 64)        18496     \n",
            "                                                                 \n",
            " conv2d_7 (Conv2D)           (None, 32, 32, 64)        36928     \n",
            "                                                                 \n",
            " max_pooling2d_3 (MaxPooling  (None, 16, 16, 64)       0         \n",
            " 2D)                                                             \n",
            "                                                                 \n",
            " dropout_4 (Dropout)         (None, 16, 16, 64)        0         \n",
            "                                                                 \n",
            " flatten_1 (Flatten)         (None, 16384)             0         \n",
            "                                                                 \n",
            " dense_2 (Dense)             (None, 1024)              16778240  \n",
            "                                                                 \n",
            " dense_3 (Dense)             (None, 1024)              1049600   \n",
            "                                                                 \n",
            " dropout_5 (Dropout)         (None, 1024)              0         \n",
            "                                                                 \n",
            " dense_4 (Dense)             (None, 46)                47150     \n",
            "                                                                 \n",
            "=================================================================\n",
            "Total params: 17,940,558\n",
            "Trainable params: 17,940,558\n",
            "Non-trainable params: 0\n",
            "_________________________________________________________________\n"
          ]
        }
      ]
    }
  ]
}